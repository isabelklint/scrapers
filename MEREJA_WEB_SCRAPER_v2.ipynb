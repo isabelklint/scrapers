{
  "cells": [
    {
      "cell_type": "markdown",
      "metadata": {
        "id": "view-in-github",
        "colab_type": "text"
      },
      "source": [
        "<a href=\"https://colab.research.google.com/github/isabelklint/scrapers/blob/main/MEREJA_WEB_SCRAPER_v2.ipynb\" target=\"_parent\"><img src=\"https://colab.research.google.com/assets/colab-badge.svg\" alt=\"Open In Colab\"/></a>"
      ]
    },
    {
      "cell_type": "code",
      "execution_count": null,
      "metadata": {
        "id": "yQa8Q420oROz"
      },
      "outputs": [],
      "source": [
        "# https://github.com/tilburgsciencehub/data-ranking-the-brands/blob/main/webscraping_ranking_the_brands.ipynb\n",
        "# !pip install BeautifulSoup4\n",
        "# !pip install pandas\n",
        "# !pip install requests\n",
        "\n",
        "from bs4 import BeautifulSoup\n",
        "import requests\n",
        "import pandas as pd\n"
      ]
    },
    {
      "cell_type": "code",
      "execution_count": null,
      "metadata": {
        "id": "TP0JlC871MyJ"
      },
      "outputs": [],
      "source": [
        "# chose a value for the while loop, here it is 2 so you can see how it works\n",
        "i = 0\n",
        "soups = []\n",
        "while i < 2: # 50 is up to september 2022\n",
        "  page_link = 'https://mereja.com/amharic/v2/page/' + str(i)\n",
        "  request_object = requests.get(page_link)\n",
        "  source_code = request_object.text\n",
        "  soup = BeautifulSoup(source_code, \"html.parser\")\n",
        "  soups.append(soup)\n",
        "  i+=1\n"
      ]
    },
    {
      "cell_type": "code",
      "execution_count": null,
      "metadata": {
        "id": "RyNHoAxt39Qf"
      },
      "outputs": [],
      "source": [
        "# make some lists\n",
        "list_of_URLS = []\n",
        "scrapedURLS = []"
      ]
    },
    {
      "cell_type": "code",
      "execution_count": null,
      "metadata": {
        "id": "iLj2P1D639Qg"
      },
      "outputs": [],
      "source": [
        "# get all the links\n",
        "for soup in soups:\n",
        "  for span in soup.find_all('a'):\n",
        "    list_of_URLS.append(span.get('href'))\n",
        "    "
      ]
    },
    {
      "cell_type": "code",
      "execution_count": null,
      "metadata": {
        "id": "-fbo5yPFL-nG"
      },
      "outputs": [],
      "source": [
        "# you can copy and paste the soups into vs code \n",
        "# or similar and look at the structure of the html\n",
        "# so you know what tags etc. to target\n",
        "\n",
        "#print(soups)"
      ]
    },
    {
      "cell_type": "code",
      "execution_count": null,
      "metadata": {
        "id": "O9s2gXmMA7pC"
      },
      "outputs": [],
      "source": [
        "# get a list of urls that make sense for news items in amaric\n",
        "# these won't include videos tho\n",
        "# video url: https://mereja.com/video2/watch.php?vid=f94162ab5\n",
        "for url in list_of_URLS:\n",
        "  if url.startswith('https://mereja.com/amharic/v2/8') == True:\n",
        "    scrapedURLS.append(url)\n",
        "  "
      ]
    },
    {
      "cell_type": "code",
      "execution_count": null,
      "metadata": {
        "colab": {
          "base_uri": "https://localhost:8080/"
        },
        "id": "5276dVLN1TZV",
        "outputId": "76c176dd-d97d-41f7-9e4e-33f89c2c56d6"
      },
      "outputs": [
        {
          "output_type": "execute_result",
          "data": {
            "text/plain": [
              "168"
            ]
          },
          "metadata": {},
          "execution_count": 8
        }
      ],
      "source": [
        "# how many urls?\n",
        "len(scrapedURLS)"
      ]
    },
    {
      "cell_type": "code",
      "execution_count": null,
      "metadata": {
        "colab": {
          "base_uri": "https://localhost:8080/"
        },
        "id": "eY-H6KMiF7MM",
        "outputId": "0cc03c45-c92b-4bf4-dc14-95d6c9d3f7c5"
      },
      "outputs": [
        {
          "output_type": "stream",
          "name": "stdout",
          "text": [
            "84\n"
          ]
        }
      ],
      "source": [
        "# get rid of duplicates\n",
        "unique_list = list(set(scrapedURLS))\n",
        "print(len(unique_list))"
      ]
    },
    {
      "cell_type": "code",
      "execution_count": null,
      "metadata": {
        "id": "kynRNxxiGItr"
      },
      "outputs": [],
      "source": [
        "# set name again\n",
        "scrapedURLS = unique_list"
      ]
    },
    {
      "cell_type": "code",
      "execution_count": null,
      "metadata": {
        "colab": {
          "base_uri": "https://localhost:8080/"
        },
        "id": "-j9DgJLQMsuw",
        "outputId": "27f7139f-f21b-42b5-83e2-829debf88249"
      },
      "outputs": [
        {
          "output_type": "stream",
          "name": "stdout",
          "text": [
            "https://mereja.com/amharic/v2/812791\n"
          ]
        }
      ],
      "source": [
        "# an example url\n",
        "print(scrapedURLS[10])"
      ]
    },
    {
      "cell_type": "code",
      "execution_count": null,
      "metadata": {
        "colab": {
          "base_uri": "https://localhost:8080/"
        },
        "id": "yBTr616CFtJq",
        "outputId": "223b41ef-f706-470f-f841-5d11008c2a2b"
      },
      "outputs": [
        {
          "output_type": "stream",
          "name": "stdout",
          "text": [
            "Looking in indexes: https://pypi.org/simple, https://us-python.pkg.dev/colab-wheels/public/simple/\n",
            "Collecting cloudscraper\n",
            "  Downloading cloudscraper-1.2.69-py2.py3-none-any.whl (99 kB)\n",
            "\u001b[2K     \u001b[90m━━━━━━━━━━━━━━━━━━━━━━━━━━━━━━━━━━━━━━━━\u001b[0m \u001b[32m99.7/99.7 KB\u001b[0m \u001b[31m7.3 MB/s\u001b[0m eta \u001b[36m0:00:00\u001b[0m\n",
            "\u001b[?25hCollecting requests-toolbelt>=0.9.1\n",
            "  Downloading requests_toolbelt-0.10.1-py2.py3-none-any.whl (54 kB)\n",
            "\u001b[2K     \u001b[90m━━━━━━━━━━━━━━━━━━━━━━━━━━━━━━━━━━━━━━━━\u001b[0m \u001b[32m54.5/54.5 KB\u001b[0m \u001b[31m6.3 MB/s\u001b[0m eta \u001b[36m0:00:00\u001b[0m\n",
            "\u001b[?25hRequirement already satisfied: requests>=2.9.2 in /usr/local/lib/python3.9/dist-packages (from cloudscraper) (2.27.1)\n",
            "Requirement already satisfied: pyparsing>=2.4.7 in /usr/local/lib/python3.9/dist-packages (from cloudscraper) (3.0.9)\n",
            "Requirement already satisfied: urllib3<1.27,>=1.21.1 in /usr/local/lib/python3.9/dist-packages (from requests>=2.9.2->cloudscraper) (1.26.15)\n",
            "Requirement already satisfied: idna<4,>=2.5 in /usr/local/lib/python3.9/dist-packages (from requests>=2.9.2->cloudscraper) (3.4)\n",
            "Requirement already satisfied: certifi>=2017.4.17 in /usr/local/lib/python3.9/dist-packages (from requests>=2.9.2->cloudscraper) (2022.12.7)\n",
            "Requirement already satisfied: charset-normalizer~=2.0.0 in /usr/local/lib/python3.9/dist-packages (from requests>=2.9.2->cloudscraper) (2.0.12)\n",
            "Installing collected packages: requests-toolbelt, cloudscraper\n",
            "Successfully installed cloudscraper-1.2.69 requests-toolbelt-0.10.1\n",
            "Looking in indexes: https://pypi.org/simple, https://us-python.pkg.dev/colab-wheels/public/simple/\n",
            "Collecting google_trans_new\n",
            "  Downloading google_trans_new-1.1.9-py3-none-any.whl (9.2 kB)\n",
            "Installing collected packages: google_trans_new\n",
            "Successfully installed google_trans_new-1.1.9\n"
          ]
        }
      ],
      "source": [
        "# adapted from https://blog.devgenius.io/use-selenium-webdriver-in-google-colab-d5f2dba1d9f5\n",
        "#First, we install cloudscraper and googletrans modules that we are going to use for scraping and translating the content.\n",
        "\n",
        "!pip install cloudscraper\n",
        "!pip install google_trans_new\n"
      ]
    },
    {
      "cell_type": "code",
      "execution_count": null,
      "metadata": {
        "id": "UqBAyxvUupkZ"
      },
      "outputs": [],
      "source": [
        "#With cloudscraper we scrape the URL and with Beutiful Soup we parse the URLs.\n",
        "#We put everything together in order based on importance.\n",
        "import cloudscraper\n",
        "from bs4 import BeautifulSoup\n"
      ]
    },
    {
      "cell_type": "code",
      "execution_count": null,
      "metadata": {
        "id": "v3qXIUPdEi58"
      },
      "outputs": [],
      "source": [
        "# here is the specific function to the webpage, \n",
        "# this one is specific to mereja's tags\n",
        "data = pd.DataFrame(columns = ['Date', 'Title', 'URL'])\n",
        "\n",
        "def scrape_this_url(url):\n",
        "    scraper = cloudscraper.create_scraper() \n",
        "    headers = {'user-agent': 'Mozilla/5.0 (Linux; Android 6.0.1; Nexus 5X Build/MMB29P) AppleWebKit/537.36 (KHTML, like Gecko) Chrome/85.0.4183.121 Mobile Safari/537.36 (compatible; Googlebot/2.1; +http://www.google.com/bot.html)'}\n",
        "    \n",
        "    try:\n",
        "        r = scraper.get(url, headers=headers)\n",
        "        soup = BeautifulSoup(r.text, 'html.parser')\n",
        "        title = soup.find('title').text\n",
        "        span = soup.find('span', {'class': 'timestamp updated'}).text\n",
        "        # create list of readmore links (is there more than one per page?)\n",
        "        # linked_tag = soup.find('div', {'class': 'readmore'})\n",
        "        # linked = linked_tag.find('a').get('href') if linked_tag and linked_tag.find('a') else \"\"\n",
        "        linked_tags = soup.find_all('div', {'class': 'readmore'})\n",
        "        linked = []\n",
        "        for tag in linked_tags:\n",
        "            link = tag.find('a').get('href') if tag.find('a') else \"\"\n",
        "            linked.append(link)\n",
        "\n",
        "        # Create a dictionary with the data to add\n",
        "        data_dict = {'Date': span, 'Title': title, 'URL': url, 'Linked_URL': linked}\n",
        "\n",
        "        # return the dictionary\n",
        "        return data_dict\n",
        "\n",
        "    except Exception as e:\n",
        "        print(e)\n",
        "        return {}\n"
      ]
    },
    {
      "cell_type": "code",
      "execution_count": null,
      "metadata": {
        "id": "R_M21JtsGhSe"
      },
      "outputs": [],
      "source": [
        "# i do not recommend this but the output was too cluttered\n",
        "import warnings\n",
        "\n",
        "# Suppress all warnings\n",
        "warnings.filterwarnings(\"ignore\")\n"
      ]
    },
    {
      "cell_type": "code",
      "execution_count": null,
      "metadata": {
        "id": "QKDgVwiDEuZ5"
      },
      "outputs": [],
      "source": [
        "# loop through the list of URLs and append the data to the DataFrame\n",
        "for url in scrapedURLS:\n",
        "    data_dict = scrape_this_url(url)\n",
        "    if data_dict:\n",
        "        data = data.append(data_dict, ignore_index=True)\n"
      ]
    },
    {
      "cell_type": "code",
      "execution_count": null,
      "metadata": {
        "colab": {
          "base_uri": "https://localhost:8080/",
          "height": 206
        },
        "id": "7-IxObTdEwv5",
        "outputId": "356b04f1-49c7-4974-818b-d4c40fb4161e"
      },
      "outputs": [
        {
          "output_type": "execute_result",
          "data": {
            "text/plain": [
              "             Date                                              Title  \\\n",
              "0  March 31, 2023  ሩሲያ ምግብ ለሰሜን ኮሪያ ሰጥታ በምላሹ ጦር መሳሪያ ልትቀበል መሆኑን አ...   \n",
              "1   April 3, 2023  የሽግግር ሂደት በትግራይ፤ ተስፋና ስጋቶቹ | Mereja.com - Ethi...   \n",
              "2  March 31, 2023  “ኡጋንዳውያኑ ወደ ኢትዮጵያ የገቡት የምጽዓትን ቀን ሽሽት አይደለም” የኛ...   \n",
              "3  March 31, 2023  የአላማጣ ከተማ ወቅታዊ ሁኔታ እና የነዋሪዎች ቅሬታ | Mereja.com ...   \n",
              "4  March 31, 2023  ሩሲያ ምግብ ለሰሜን ኮሪያ ሰጥታ በምላሹ ጦር መሳሪያ ልትቀበል መሆኑን አ...   \n",
              "\n",
              "                                    URL  \\\n",
              "0  https://mereja.com/amharic/v2/811704   \n",
              "1  https://mereja.com/amharic/v2/812588   \n",
              "2  https://mereja.com/amharic/v2/811842   \n",
              "3  https://mereja.com/amharic/v2/811719   \n",
              "4  https://mereja.com/amharic/v2/811703   \n",
              "\n",
              "                                          Linked_URL  \n",
              "0  https://www.bbc.com/amharic/articles/crgjed2vy...  \n",
              "1  https://www.dw.com/am/%E1%8B%A8%E1%88%BD%E1%8C...  \n",
              "2  https://www.bbc.com/amharic/articles/cq5ew7xnp...  \n",
              "3  https://www.bbc.com/amharic/articles/ckkqqexrz...  \n",
              "4  https://www.bbc.com/amharic/articles/crgjed2vy...  "
            ],
            "text/html": [
              "\n",
              "  <div id=\"df-0395a1ba-ae60-428c-9fed-a2eea84a02a4\">\n",
              "    <div class=\"colab-df-container\">\n",
              "      <div>\n",
              "<style scoped>\n",
              "    .dataframe tbody tr th:only-of-type {\n",
              "        vertical-align: middle;\n",
              "    }\n",
              "\n",
              "    .dataframe tbody tr th {\n",
              "        vertical-align: top;\n",
              "    }\n",
              "\n",
              "    .dataframe thead th {\n",
              "        text-align: right;\n",
              "    }\n",
              "</style>\n",
              "<table border=\"1\" class=\"dataframe\">\n",
              "  <thead>\n",
              "    <tr style=\"text-align: right;\">\n",
              "      <th></th>\n",
              "      <th>Date</th>\n",
              "      <th>Title</th>\n",
              "      <th>URL</th>\n",
              "      <th>Linked_URL</th>\n",
              "    </tr>\n",
              "  </thead>\n",
              "  <tbody>\n",
              "    <tr>\n",
              "      <th>0</th>\n",
              "      <td>March 31, 2023</td>\n",
              "      <td>ሩሲያ ምግብ ለሰሜን ኮሪያ ሰጥታ በምላሹ ጦር መሳሪያ ልትቀበል መሆኑን አ...</td>\n",
              "      <td>https://mereja.com/amharic/v2/811704</td>\n",
              "      <td>https://www.bbc.com/amharic/articles/crgjed2vy...</td>\n",
              "    </tr>\n",
              "    <tr>\n",
              "      <th>1</th>\n",
              "      <td>April 3, 2023</td>\n",
              "      <td>የሽግግር ሂደት በትግራይ፤ ተስፋና ስጋቶቹ | Mereja.com - Ethi...</td>\n",
              "      <td>https://mereja.com/amharic/v2/812588</td>\n",
              "      <td>https://www.dw.com/am/%E1%8B%A8%E1%88%BD%E1%8C...</td>\n",
              "    </tr>\n",
              "    <tr>\n",
              "      <th>2</th>\n",
              "      <td>March 31, 2023</td>\n",
              "      <td>“ኡጋንዳውያኑ ወደ ኢትዮጵያ የገቡት የምጽዓትን ቀን ሽሽት አይደለም” የኛ...</td>\n",
              "      <td>https://mereja.com/amharic/v2/811842</td>\n",
              "      <td>https://www.bbc.com/amharic/articles/cq5ew7xnp...</td>\n",
              "    </tr>\n",
              "    <tr>\n",
              "      <th>3</th>\n",
              "      <td>March 31, 2023</td>\n",
              "      <td>የአላማጣ ከተማ ወቅታዊ ሁኔታ እና የነዋሪዎች ቅሬታ | Mereja.com ...</td>\n",
              "      <td>https://mereja.com/amharic/v2/811719</td>\n",
              "      <td>https://www.bbc.com/amharic/articles/ckkqqexrz...</td>\n",
              "    </tr>\n",
              "    <tr>\n",
              "      <th>4</th>\n",
              "      <td>March 31, 2023</td>\n",
              "      <td>ሩሲያ ምግብ ለሰሜን ኮሪያ ሰጥታ በምላሹ ጦር መሳሪያ ልትቀበል መሆኑን አ...</td>\n",
              "      <td>https://mereja.com/amharic/v2/811703</td>\n",
              "      <td>https://www.bbc.com/amharic/articles/crgjed2vy...</td>\n",
              "    </tr>\n",
              "  </tbody>\n",
              "</table>\n",
              "</div>\n",
              "      <button class=\"colab-df-convert\" onclick=\"convertToInteractive('df-0395a1ba-ae60-428c-9fed-a2eea84a02a4')\"\n",
              "              title=\"Convert this dataframe to an interactive table.\"\n",
              "              style=\"display:none;\">\n",
              "        \n",
              "  <svg xmlns=\"http://www.w3.org/2000/svg\" height=\"24px\"viewBox=\"0 0 24 24\"\n",
              "       width=\"24px\">\n",
              "    <path d=\"M0 0h24v24H0V0z\" fill=\"none\"/>\n",
              "    <path d=\"M18.56 5.44l.94 2.06.94-2.06 2.06-.94-2.06-.94-.94-2.06-.94 2.06-2.06.94zm-11 1L8.5 8.5l.94-2.06 2.06-.94-2.06-.94L8.5 2.5l-.94 2.06-2.06.94zm10 10l.94 2.06.94-2.06 2.06-.94-2.06-.94-.94-2.06-.94 2.06-2.06.94z\"/><path d=\"M17.41 7.96l-1.37-1.37c-.4-.4-.92-.59-1.43-.59-.52 0-1.04.2-1.43.59L10.3 9.45l-7.72 7.72c-.78.78-.78 2.05 0 2.83L4 21.41c.39.39.9.59 1.41.59.51 0 1.02-.2 1.41-.59l7.78-7.78 2.81-2.81c.8-.78.8-2.07 0-2.86zM5.41 20L4 18.59l7.72-7.72 1.47 1.35L5.41 20z\"/>\n",
              "  </svg>\n",
              "      </button>\n",
              "      \n",
              "  <style>\n",
              "    .colab-df-container {\n",
              "      display:flex;\n",
              "      flex-wrap:wrap;\n",
              "      gap: 12px;\n",
              "    }\n",
              "\n",
              "    .colab-df-convert {\n",
              "      background-color: #E8F0FE;\n",
              "      border: none;\n",
              "      border-radius: 50%;\n",
              "      cursor: pointer;\n",
              "      display: none;\n",
              "      fill: #1967D2;\n",
              "      height: 32px;\n",
              "      padding: 0 0 0 0;\n",
              "      width: 32px;\n",
              "    }\n",
              "\n",
              "    .colab-df-convert:hover {\n",
              "      background-color: #E2EBFA;\n",
              "      box-shadow: 0px 1px 2px rgba(60, 64, 67, 0.3), 0px 1px 3px 1px rgba(60, 64, 67, 0.15);\n",
              "      fill: #174EA6;\n",
              "    }\n",
              "\n",
              "    [theme=dark] .colab-df-convert {\n",
              "      background-color: #3B4455;\n",
              "      fill: #D2E3FC;\n",
              "    }\n",
              "\n",
              "    [theme=dark] .colab-df-convert:hover {\n",
              "      background-color: #434B5C;\n",
              "      box-shadow: 0px 1px 3px 1px rgba(0, 0, 0, 0.15);\n",
              "      filter: drop-shadow(0px 1px 2px rgba(0, 0, 0, 0.3));\n",
              "      fill: #FFFFFF;\n",
              "    }\n",
              "  </style>\n",
              "\n",
              "      <script>\n",
              "        const buttonEl =\n",
              "          document.querySelector('#df-0395a1ba-ae60-428c-9fed-a2eea84a02a4 button.colab-df-convert');\n",
              "        buttonEl.style.display =\n",
              "          google.colab.kernel.accessAllowed ? 'block' : 'none';\n",
              "\n",
              "        async function convertToInteractive(key) {\n",
              "          const element = document.querySelector('#df-0395a1ba-ae60-428c-9fed-a2eea84a02a4');\n",
              "          const dataTable =\n",
              "            await google.colab.kernel.invokeFunction('convertToInteractive',\n",
              "                                                     [key], {});\n",
              "          if (!dataTable) return;\n",
              "\n",
              "          const docLinkHtml = 'Like what you see? Visit the ' +\n",
              "            '<a target=\"_blank\" href=https://colab.research.google.com/notebooks/data_table.ipynb>data table notebook</a>'\n",
              "            + ' to learn more about interactive tables.';\n",
              "          element.innerHTML = '';\n",
              "          dataTable['output_type'] = 'display_data';\n",
              "          await google.colab.output.renderOutput(dataTable, element);\n",
              "          const docLink = document.createElement('div');\n",
              "          docLink.innerHTML = docLinkHtml;\n",
              "          element.appendChild(docLink);\n",
              "        }\n",
              "      </script>\n",
              "    </div>\n",
              "  </div>\n",
              "  "
            ]
          },
          "metadata": {},
          "execution_count": 32
        }
      ],
      "source": [
        "# take a look at output\n",
        "data.head()\n"
      ]
    },
    {
      "cell_type": "code",
      "execution_count": null,
      "metadata": {
        "colab": {
          "base_uri": "https://localhost:8080/"
        },
        "id": "2d7j9sc7JLD_",
        "outputId": "9b23022f-571d-4fbf-9f27-59f7e20b81f9"
      },
      "outputs": [
        {
          "output_type": "stream",
          "name": "stdout",
          "text": [
            "<class 'pandas.core.frame.DataFrame'>\n",
            "RangeIndex: 110 entries, 0 to 109\n",
            "Data columns (total 4 columns):\n",
            " #   Column      Non-Null Count  Dtype \n",
            "---  ------      --------------  ----- \n",
            " 0   Date        110 non-null    object\n",
            " 1   Title       110 non-null    object\n",
            " 2   URL         110 non-null    object\n",
            " 3   Linked_URL  110 non-null    object\n",
            "dtypes: object(4)\n",
            "memory usage: 3.6+ KB\n"
          ]
        }
      ],
      "source": [
        "# get some stats on output\n",
        "data.info()"
      ]
    },
    {
      "cell_type": "code",
      "source": [
        "# get some stats on output\n",
        "data.describe()"
      ],
      "metadata": {
        "colab": {
          "base_uri": "https://localhost:8080/",
          "height": 174
        },
        "id": "Wp85SMd3r9Xe",
        "outputId": "158a00b1-9947-44e1-ba8b-4112ed3c842c"
      },
      "execution_count": 30,
      "outputs": [
        {
          "output_type": "execute_result",
          "data": {
            "text/plain": [
              "                 Date                                              Title  \\\n",
              "count              80                                                 80   \n",
              "unique              6                                                 80   \n",
              "top     April 2, 2023  በሸገር ከተማ ቤቶች መፍረስ | Mereja.com - Ethiopian Amh...   \n",
              "freq               20                                                  1   \n",
              "\n",
              "                                         URL Linked_URL  \n",
              "count                                     80         80  \n",
              "unique                                    80         31  \n",
              "top     https://mereja.com/amharic/v2/812321         []  \n",
              "freq                                       1         50  "
            ],
            "text/html": [
              "\n",
              "  <div id=\"df-e7964189-8f2c-4020-af57-6f759a784688\">\n",
              "    <div class=\"colab-df-container\">\n",
              "      <div>\n",
              "<style scoped>\n",
              "    .dataframe tbody tr th:only-of-type {\n",
              "        vertical-align: middle;\n",
              "    }\n",
              "\n",
              "    .dataframe tbody tr th {\n",
              "        vertical-align: top;\n",
              "    }\n",
              "\n",
              "    .dataframe thead th {\n",
              "        text-align: right;\n",
              "    }\n",
              "</style>\n",
              "<table border=\"1\" class=\"dataframe\">\n",
              "  <thead>\n",
              "    <tr style=\"text-align: right;\">\n",
              "      <th></th>\n",
              "      <th>Date</th>\n",
              "      <th>Title</th>\n",
              "      <th>URL</th>\n",
              "      <th>Linked_URL</th>\n",
              "    </tr>\n",
              "  </thead>\n",
              "  <tbody>\n",
              "    <tr>\n",
              "      <th>count</th>\n",
              "      <td>80</td>\n",
              "      <td>80</td>\n",
              "      <td>80</td>\n",
              "      <td>80</td>\n",
              "    </tr>\n",
              "    <tr>\n",
              "      <th>unique</th>\n",
              "      <td>6</td>\n",
              "      <td>80</td>\n",
              "      <td>80</td>\n",
              "      <td>31</td>\n",
              "    </tr>\n",
              "    <tr>\n",
              "      <th>top</th>\n",
              "      <td>April 2, 2023</td>\n",
              "      <td>በሸገር ከተማ ቤቶች መፍረስ | Mereja.com - Ethiopian Amh...</td>\n",
              "      <td>https://mereja.com/amharic/v2/812321</td>\n",
              "      <td>[]</td>\n",
              "    </tr>\n",
              "    <tr>\n",
              "      <th>freq</th>\n",
              "      <td>20</td>\n",
              "      <td>1</td>\n",
              "      <td>1</td>\n",
              "      <td>50</td>\n",
              "    </tr>\n",
              "  </tbody>\n",
              "</table>\n",
              "</div>\n",
              "      <button class=\"colab-df-convert\" onclick=\"convertToInteractive('df-e7964189-8f2c-4020-af57-6f759a784688')\"\n",
              "              title=\"Convert this dataframe to an interactive table.\"\n",
              "              style=\"display:none;\">\n",
              "        \n",
              "  <svg xmlns=\"http://www.w3.org/2000/svg\" height=\"24px\"viewBox=\"0 0 24 24\"\n",
              "       width=\"24px\">\n",
              "    <path d=\"M0 0h24v24H0V0z\" fill=\"none\"/>\n",
              "    <path d=\"M18.56 5.44l.94 2.06.94-2.06 2.06-.94-2.06-.94-.94-2.06-.94 2.06-2.06.94zm-11 1L8.5 8.5l.94-2.06 2.06-.94-2.06-.94L8.5 2.5l-.94 2.06-2.06.94zm10 10l.94 2.06.94-2.06 2.06-.94-2.06-.94-.94-2.06-.94 2.06-2.06.94z\"/><path d=\"M17.41 7.96l-1.37-1.37c-.4-.4-.92-.59-1.43-.59-.52 0-1.04.2-1.43.59L10.3 9.45l-7.72 7.72c-.78.78-.78 2.05 0 2.83L4 21.41c.39.39.9.59 1.41.59.51 0 1.02-.2 1.41-.59l7.78-7.78 2.81-2.81c.8-.78.8-2.07 0-2.86zM5.41 20L4 18.59l7.72-7.72 1.47 1.35L5.41 20z\"/>\n",
              "  </svg>\n",
              "      </button>\n",
              "      \n",
              "  <style>\n",
              "    .colab-df-container {\n",
              "      display:flex;\n",
              "      flex-wrap:wrap;\n",
              "      gap: 12px;\n",
              "    }\n",
              "\n",
              "    .colab-df-convert {\n",
              "      background-color: #E8F0FE;\n",
              "      border: none;\n",
              "      border-radius: 50%;\n",
              "      cursor: pointer;\n",
              "      display: none;\n",
              "      fill: #1967D2;\n",
              "      height: 32px;\n",
              "      padding: 0 0 0 0;\n",
              "      width: 32px;\n",
              "    }\n",
              "\n",
              "    .colab-df-convert:hover {\n",
              "      background-color: #E2EBFA;\n",
              "      box-shadow: 0px 1px 2px rgba(60, 64, 67, 0.3), 0px 1px 3px 1px rgba(60, 64, 67, 0.15);\n",
              "      fill: #174EA6;\n",
              "    }\n",
              "\n",
              "    [theme=dark] .colab-df-convert {\n",
              "      background-color: #3B4455;\n",
              "      fill: #D2E3FC;\n",
              "    }\n",
              "\n",
              "    [theme=dark] .colab-df-convert:hover {\n",
              "      background-color: #434B5C;\n",
              "      box-shadow: 0px 1px 3px 1px rgba(0, 0, 0, 0.15);\n",
              "      filter: drop-shadow(0px 1px 2px rgba(0, 0, 0, 0.3));\n",
              "      fill: #FFFFFF;\n",
              "    }\n",
              "  </style>\n",
              "\n",
              "      <script>\n",
              "        const buttonEl =\n",
              "          document.querySelector('#df-e7964189-8f2c-4020-af57-6f759a784688 button.colab-df-convert');\n",
              "        buttonEl.style.display =\n",
              "          google.colab.kernel.accessAllowed ? 'block' : 'none';\n",
              "\n",
              "        async function convertToInteractive(key) {\n",
              "          const element = document.querySelector('#df-e7964189-8f2c-4020-af57-6f759a784688');\n",
              "          const dataTable =\n",
              "            await google.colab.kernel.invokeFunction('convertToInteractive',\n",
              "                                                     [key], {});\n",
              "          if (!dataTable) return;\n",
              "\n",
              "          const docLinkHtml = 'Like what you see? Visit the ' +\n",
              "            '<a target=\"_blank\" href=https://colab.research.google.com/notebooks/data_table.ipynb>data table notebook</a>'\n",
              "            + ' to learn more about interactive tables.';\n",
              "          element.innerHTML = '';\n",
              "          dataTable['output_type'] = 'display_data';\n",
              "          await google.colab.output.renderOutput(dataTable, element);\n",
              "          const docLink = document.createElement('div');\n",
              "          docLink.innerHTML = docLinkHtml;\n",
              "          element.appendChild(docLink);\n",
              "        }\n",
              "      </script>\n",
              "    </div>\n",
              "  </div>\n",
              "  "
            ]
          },
          "metadata": {},
          "execution_count": 30
        }
      ]
    },
    {
      "cell_type": "code",
      "execution_count": null,
      "metadata": {
        "id": "mnvEIIpRHreR"
      },
      "outputs": [],
      "source": [
        "# # filter the DataFrame by URLs containing \"video2\"\n",
        "# filtered_df = data[data['URL'].str.contains('video2')]\n",
        "\n",
        "# # print the filtered DataFrame\n",
        "# print(filtered_df)"
      ]
    }
  ],
  "metadata": {
    "colab": {
      "provenance": [],
      "authorship_tag": "ABX9TyP+XHgwuJj9jE6j7tIgL9W2",
      "include_colab_link": true
    },
    "kernelspec": {
      "display_name": "Python 3",
      "name": "python3"
    },
    "language_info": {
      "name": "python"
    }
  },
  "nbformat": 4,
  "nbformat_minor": 0
}