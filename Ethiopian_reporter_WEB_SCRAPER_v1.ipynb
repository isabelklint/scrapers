{
  "nbformat": 4,
  "nbformat_minor": 0,
  "metadata": {
    "colab": {
      "provenance": [],
      "authorship_tag": "ABX9TyPjqvT4RPhjHM4CrY+lK3pk",
      "include_colab_link": true
    },
    "kernelspec": {
      "name": "python3",
      "display_name": "Python 3"
    },
    "language_info": {
      "name": "python"
    }
  },
  "cells": [
    {
      "cell_type": "markdown",
      "metadata": {
        "id": "view-in-github",
        "colab_type": "text"
      },
      "source": [
        "<a href=\"https://colab.research.google.com/github/isabelklint/scrapers/blob/main/Ethiopian_reporter_WEB_SCRAPER_v1.ipynb\" target=\"_parent\"><img src=\"https://colab.research.google.com/assets/colab-badge.svg\" alt=\"Open In Colab\"/></a>"
      ]
    },
    {
      "cell_type": "code",
      "execution_count": null,
      "metadata": {
        "id": "yQa8Q420oROz"
      },
      "outputs": [],
      "source": [
        "# https://github.com/tilburgsciencehub/data-ranking-the-brands/blob/main/webscraping_ranking_the_brands.ipynb\n",
        "!pip install BeautifulSoup4\n",
        "!pip install pandas\n",
        "!pip install requests\n",
        "\n",
        "from bs4 import BeautifulSoup\n",
        "import requests\n",
        "import pandas as pd\n"
      ]
    },
    {
      "cell_type": "code",
      "source": [
        "soups = []\n",
        "# categories do not include drop-downs\n",
        "# categories = ['politics', 'business', 'editorial', 'kibur-minister', 'sport', 'kinin-and-bahil', 'opinion', 'temuaget', 'speak-your-mind', 'world' ]\n",
        "# https://www.ethiopianreporter.com\n",
        "page_link = 'https://www.ethiopianreporter.com/news/'\n",
        "request_object = requests.get(page_link)\n",
        "source_code = request_object.text\n",
        "soup = BeautifulSoup(source_code, \"lxml\")\n",
        "soups.append(soup)\n"
      ],
      "metadata": {
        "id": "TP0JlC871MyJ"
      },
      "execution_count": null,
      "outputs": []
    },
    {
      "cell_type": "code",
      "source": [
        "# make some lists\n",
        "list_of_URLS = []\n",
        "scrapedURLS = []\n"
      ],
      "metadata": {
        "id": "RyNHoAxt39Qf"
      },
      "execution_count": null,
      "outputs": []
    },
    {
      "cell_type": "code",
      "source": [
        "# Find all the <a> tags with href containing the word \"article\"\n",
        "list_of_URLS = [a['href'] for a in soup.find_all('a', href=lambda href: href and 'article' in href)]\n",
        "\n",
        "# Print the article links\n",
        "# print(list_of_URLS)\n",
        "    "
      ],
      "metadata": {
        "id": "iLj2P1D639Qg",
        "colab": {
          "base_uri": "https://localhost:8080/"
        },
        "outputId": "c371d91e-08e8-4568-f9d8-61527f433d41"
      },
      "execution_count": null,
      "outputs": [
        {
          "output_type": "stream",
          "name": "stdout",
          "text": [
            "[]\n"
          ]
        }
      ]
    },
    {
      "cell_type": "code",
      "source": [
        "# print(soups)"
      ],
      "metadata": {
        "id": "-fbo5yPFL-nG"
      },
      "execution_count": null,
      "outputs": []
    },
    {
      "cell_type": "code",
      "source": [
        "# get a list of urls that make sense for news items in amaric\n",
        "# these won't include videos tho\n",
        "# video url: https://mereja.com/video2/watch.php?vid=f94162ab5\n",
        "for url in list_of_URLS:\n",
        "  if url.startswith('https://www.bbc.com/amharic/articles/') == True:\n",
        "    scrapedURLS.append(url)\n",
        "  elif url.startswith('/amharic/articles/'):\n",
        "    scrapedURLS.append('https://www.bbc.com' + url)\n",
        "  "
      ],
      "metadata": {
        "id": "O9s2gXmMA7pC"
      },
      "execution_count": null,
      "outputs": []
    },
    {
      "cell_type": "code",
      "source": [
        "# how many urls?\n",
        "len(scrapedURLS)\n"
      ],
      "metadata": {
        "id": "5276dVLN1TZV",
        "colab": {
          "base_uri": "https://localhost:8080/"
        },
        "outputId": "ca90ef90-4361-489f-d94a-e5c82e18c1d0"
      },
      "execution_count": null,
      "outputs": [
        {
          "output_type": "execute_result",
          "data": {
            "text/plain": [
              "0"
            ]
          },
          "metadata": {},
          "execution_count": 11
        }
      ]
    },
    {
      "cell_type": "code",
      "source": [
        "# get rid of duplicates\n",
        "unique_list = list(set(scrapedURLS))\n",
        "print(len(unique_list))\n"
      ],
      "metadata": {
        "colab": {
          "base_uri": "https://localhost:8080/"
        },
        "id": "eY-H6KMiF7MM",
        "outputId": "c400a978-344f-4488-c64d-fe09141e3c09"
      },
      "execution_count": null,
      "outputs": [
        {
          "output_type": "stream",
          "name": "stdout",
          "text": [
            "0\n"
          ]
        }
      ]
    },
    {
      "cell_type": "code",
      "source": [
        "# set name again\n",
        "scrapedURLS = unique_list\n"
      ],
      "metadata": {
        "id": "kynRNxxiGItr"
      },
      "execution_count": null,
      "outputs": []
    },
    {
      "cell_type": "code",
      "source": [
        "# an example url\n",
        "print(scrapedURLS[0])\n"
      ],
      "metadata": {
        "colab": {
          "base_uri": "https://localhost:8080/"
        },
        "id": "-j9DgJLQMsuw",
        "outputId": "6699c901-8f8f-4c20-84c0-27ba5afe4c3f"
      },
      "execution_count": null,
      "outputs": [
        {
          "output_type": "stream",
          "name": "stdout",
          "text": [
            "https://www.bbc.com/amharic/articles/c9r007rqdgzo\n"
          ]
        }
      ]
    },
    {
      "cell_type": "code",
      "source": [
        "# adapted from https://blog.devgenius.io/use-selenium-webdriver-in-google-colab-d5f2dba1d9f5\n",
        "#First, we install cloudscraper and googletrans modules that we are going to use for scraping and translating the content.\n",
        "\n",
        "!pip install cloudscraper\n",
        "!pip install google_trans_new\n"
      ],
      "metadata": {
        "id": "yBTr616CFtJq",
        "colab": {
          "base_uri": "https://localhost:8080/"
        },
        "outputId": "ad07bf26-be87-4dee-9463-4ec292207695"
      },
      "execution_count": null,
      "outputs": [
        {
          "output_type": "stream",
          "name": "stdout",
          "text": [
            "Looking in indexes: https://pypi.org/simple, https://us-python.pkg.dev/colab-wheels/public/simple/\n",
            "Requirement already satisfied: cloudscraper in /usr/local/lib/python3.9/dist-packages (1.2.69)\n",
            "Requirement already satisfied: requests>=2.9.2 in /usr/local/lib/python3.9/dist-packages (from cloudscraper) (2.27.1)\n",
            "Requirement already satisfied: requests-toolbelt>=0.9.1 in /usr/local/lib/python3.9/dist-packages (from cloudscraper) (0.10.1)\n",
            "Requirement already satisfied: pyparsing>=2.4.7 in /usr/local/lib/python3.9/dist-packages (from cloudscraper) (3.0.9)\n",
            "Requirement already satisfied: urllib3<1.27,>=1.21.1 in /usr/local/lib/python3.9/dist-packages (from requests>=2.9.2->cloudscraper) (1.26.15)\n",
            "Requirement already satisfied: certifi>=2017.4.17 in /usr/local/lib/python3.9/dist-packages (from requests>=2.9.2->cloudscraper) (2022.12.7)\n",
            "Requirement already satisfied: charset-normalizer~=2.0.0 in /usr/local/lib/python3.9/dist-packages (from requests>=2.9.2->cloudscraper) (2.0.12)\n",
            "Requirement already satisfied: idna<4,>=2.5 in /usr/local/lib/python3.9/dist-packages (from requests>=2.9.2->cloudscraper) (3.4)\n",
            "Looking in indexes: https://pypi.org/simple, https://us-python.pkg.dev/colab-wheels/public/simple/\n",
            "Requirement already satisfied: google_trans_new in /usr/local/lib/python3.9/dist-packages (1.1.9)\n"
          ]
        }
      ]
    },
    {
      "cell_type": "code",
      "source": [
        "#With cloudscraper we scrape the URL and with Beutiful Soup we parse the URLs.\n",
        "#We put everything together in order based on importance.\n",
        "import cloudscraper\n",
        "from bs4 import BeautifulSoup\n"
      ],
      "metadata": {
        "id": "UqBAyxvUupkZ"
      },
      "execution_count": null,
      "outputs": []
    },
    {
      "cell_type": "code",
      "source": [
        "# declare data as an empty DataFrame\n",
        "data = pd.DataFrame(columns = ['Date', 'Title', 'URL'])\n",
        "\n",
        "def scrape_this_url(url):\n",
        "    scraper = cloudscraper.create_scraper() \n",
        "    headers = {'user-agent': 'Mozilla/5.0 (Linux; Android 6.0.1; Nexus 5X Build/MMB29P) AppleWebKit/537.36 (KHTML, like Gecko) Chrome/85.0.4183.121 Mobile Safari/537.36 (compatible; Googlebot/2.1; +http://www.google.com/bot.html)'}\n",
        "    \n",
        "    try:\n",
        "        r = scraper.get(url, headers=headers)\n",
        "        # soup = BeautifulSoup(r.content, 'html.parser')\n",
        "        soup = BeautifulSoup(r.content, 'lxml')\n",
        "        # get title\n",
        "        # <meta data-react-helmet=\"true\" property=\"og:title\" content=\"በዩክሬኑ ጦርነት ሩሲያ ከሰራዊቷ ይልቅ ሰላይዎቿ የበለጠ ውጤታማ እንደሆኑ ተነገረ  - BBC News አማርኛ\">                                                                                                                                                                                                                                                                                                                                                                                                                                                                                                                                                                                                                                                                                                                                                                                                                                                                                                                                                                                                                                                                                                                                                                                                                                                                                                                                                                                                                                                 \"url\":\"https://news.files.bbci.co.uk/ws/img/logos/og/amharic.png\"},\"noBylinesPolicy\":\"https://www.bbc.com/amharic/institutional-49283133#authorexpertise\"}}]}\n",
        "        # get date\n",
        "        # <meta data-react-helmet=\"true\" name=\"article:published_time\" content=\"2023-03-30T04:07:16.525Z\">\n",
        "        a_title = soup.find(\"meta\", property = \"og:title\")\n",
        "        # a_date = soup.find(\"meta\", name = \"article:published_time\")\n",
        "        title = a_title[\"content\"] if a_title else \"\"\n",
        "        for tag in soup.find_all(\"meta\"):\n",
        "            if tag.get(\"name\", None) == \"article:published_time\":\n",
        "                date = tag.get(\"content\", None)\n",
        "\n",
        "        # Create a dictionary with the data to add\n",
        "        data_dict = {'Date': date, 'Title': title, 'URL': url}\n",
        "\n",
        "        # return the dictionary\n",
        "        return data_dict\n",
        "\n",
        "    except Exception as e:\n",
        "        print(e)\n",
        "        return {}\n"
      ],
      "metadata": {
        "id": "v3qXIUPdEi58"
      },
      "execution_count": null,
      "outputs": []
    },
    {
      "cell_type": "code",
      "source": [
        "import warnings\n",
        "\n",
        "# Suppress all warnings\n",
        "warnings.filterwarnings(\"ignore\")\n"
      ],
      "metadata": {
        "id": "R_M21JtsGhSe"
      },
      "execution_count": null,
      "outputs": []
    },
    {
      "cell_type": "code",
      "source": [
        "# loop through the list of URLs and append the data to the DataFrame\n",
        "for url in scrapedURLS:\n",
        "    data_dict = scrape_this_url(url)\n",
        "    if data_dict:\n",
        "        data = data.append(data_dict, ignore_index=True)\n"
      ],
      "metadata": {
        "id": "QKDgVwiDEuZ5"
      },
      "execution_count": null,
      "outputs": []
    },
    {
      "cell_type": "code",
      "source": [
        "data.head()\n"
      ],
      "metadata": {
        "colab": {
          "base_uri": "https://localhost:8080/",
          "height": 206
        },
        "id": "7-IxObTdEwv5",
        "outputId": "d29a12f6-254a-40c3-9b72-8aa641da814d"
      },
      "execution_count": null,
      "outputs": [
        {
          "output_type": "execute_result",
          "data": {
            "text/plain": [
              "                       Date  \\\n",
              "0  2023-03-29T08:41:55.863Z   \n",
              "1  2023-03-31T04:07:15.673Z   \n",
              "2  2023-04-02T05:09:29.676Z   \n",
              "3  2023-03-31T10:43:49.695Z   \n",
              "4  2023-03-27T14:05:18.674Z   \n",
              "\n",
              "                                               Title  \\\n",
              "0  ትንሿ ሌሶቶ በሰፊ የደቡብ አፍሪካ ግዛቶች ላይ የይገባኛል ጥያቄ ልታቀርብ...   \n",
              "1   የአላማጣ ከተማ ወቅታዊ ሁኔታ እና የነዋሪዎች ቅሬታ - BBC News አማርኛ   \n",
              "2  ቤተሰቦቼን ማግኘት አለመቻሌ ከፍተኛ ፈተና ሆኖብኝ ነበር : ጉዳፍ ፀጋይ ...   \n",
              "3  “ኡጋንዳውያኑ ወደ ኢትዮጵያ የገቡት የምጽዓት ቀንን ሽሽት አይደለም” የኛ...   \n",
              "4  ለረጅም ጊዜ ከዕይታ ተሰውሮ የቆየው የአሊባባ መሥራች ጃክ ማ በይፋ ታየ ...   \n",
              "\n",
              "                                                 URL  \n",
              "0  https://www.bbc.com/amharic/articles/c9r007rqdgzo  \n",
              "1  https://www.bbc.com/amharic/articles/ckkqqexrzv0o  \n",
              "2  https://www.bbc.com/amharic/articles/cpvqxkqdqpzo  \n",
              "3  https://www.bbc.com/amharic/articles/cq5ew7xnpgwo  \n",
              "4  https://www.bbc.com/amharic/articles/c6pl6m72863o  "
            ],
            "text/html": [
              "\n",
              "  <div id=\"df-e2ff15d4-b89c-48cd-9956-380527604fe5\">\n",
              "    <div class=\"colab-df-container\">\n",
              "      <div>\n",
              "<style scoped>\n",
              "    .dataframe tbody tr th:only-of-type {\n",
              "        vertical-align: middle;\n",
              "    }\n",
              "\n",
              "    .dataframe tbody tr th {\n",
              "        vertical-align: top;\n",
              "    }\n",
              "\n",
              "    .dataframe thead th {\n",
              "        text-align: right;\n",
              "    }\n",
              "</style>\n",
              "<table border=\"1\" class=\"dataframe\">\n",
              "  <thead>\n",
              "    <tr style=\"text-align: right;\">\n",
              "      <th></th>\n",
              "      <th>Date</th>\n",
              "      <th>Title</th>\n",
              "      <th>URL</th>\n",
              "    </tr>\n",
              "  </thead>\n",
              "  <tbody>\n",
              "    <tr>\n",
              "      <th>0</th>\n",
              "      <td>2023-03-29T08:41:55.863Z</td>\n",
              "      <td>ትንሿ ሌሶቶ በሰፊ የደቡብ አፍሪካ ግዛቶች ላይ የይገባኛል ጥያቄ ልታቀርብ...</td>\n",
              "      <td>https://www.bbc.com/amharic/articles/c9r007rqdgzo</td>\n",
              "    </tr>\n",
              "    <tr>\n",
              "      <th>1</th>\n",
              "      <td>2023-03-31T04:07:15.673Z</td>\n",
              "      <td>የአላማጣ ከተማ ወቅታዊ ሁኔታ እና የነዋሪዎች ቅሬታ - BBC News አማርኛ</td>\n",
              "      <td>https://www.bbc.com/amharic/articles/ckkqqexrzv0o</td>\n",
              "    </tr>\n",
              "    <tr>\n",
              "      <th>2</th>\n",
              "      <td>2023-04-02T05:09:29.676Z</td>\n",
              "      <td>ቤተሰቦቼን ማግኘት አለመቻሌ ከፍተኛ ፈተና ሆኖብኝ ነበር : ጉዳፍ ፀጋይ ...</td>\n",
              "      <td>https://www.bbc.com/amharic/articles/cpvqxkqdqpzo</td>\n",
              "    </tr>\n",
              "    <tr>\n",
              "      <th>3</th>\n",
              "      <td>2023-03-31T10:43:49.695Z</td>\n",
              "      <td>“ኡጋንዳውያኑ ወደ ኢትዮጵያ የገቡት የምጽዓት ቀንን ሽሽት አይደለም” የኛ...</td>\n",
              "      <td>https://www.bbc.com/amharic/articles/cq5ew7xnpgwo</td>\n",
              "    </tr>\n",
              "    <tr>\n",
              "      <th>4</th>\n",
              "      <td>2023-03-27T14:05:18.674Z</td>\n",
              "      <td>ለረጅም ጊዜ ከዕይታ ተሰውሮ የቆየው የአሊባባ መሥራች ጃክ ማ በይፋ ታየ ...</td>\n",
              "      <td>https://www.bbc.com/amharic/articles/c6pl6m72863o</td>\n",
              "    </tr>\n",
              "  </tbody>\n",
              "</table>\n",
              "</div>\n",
              "      <button class=\"colab-df-convert\" onclick=\"convertToInteractive('df-e2ff15d4-b89c-48cd-9956-380527604fe5')\"\n",
              "              title=\"Convert this dataframe to an interactive table.\"\n",
              "              style=\"display:none;\">\n",
              "        \n",
              "  <svg xmlns=\"http://www.w3.org/2000/svg\" height=\"24px\"viewBox=\"0 0 24 24\"\n",
              "       width=\"24px\">\n",
              "    <path d=\"M0 0h24v24H0V0z\" fill=\"none\"/>\n",
              "    <path d=\"M18.56 5.44l.94 2.06.94-2.06 2.06-.94-2.06-.94-.94-2.06-.94 2.06-2.06.94zm-11 1L8.5 8.5l.94-2.06 2.06-.94-2.06-.94L8.5 2.5l-.94 2.06-2.06.94zm10 10l.94 2.06.94-2.06 2.06-.94-2.06-.94-.94-2.06-.94 2.06-2.06.94z\"/><path d=\"M17.41 7.96l-1.37-1.37c-.4-.4-.92-.59-1.43-.59-.52 0-1.04.2-1.43.59L10.3 9.45l-7.72 7.72c-.78.78-.78 2.05 0 2.83L4 21.41c.39.39.9.59 1.41.59.51 0 1.02-.2 1.41-.59l7.78-7.78 2.81-2.81c.8-.78.8-2.07 0-2.86zM5.41 20L4 18.59l7.72-7.72 1.47 1.35L5.41 20z\"/>\n",
              "  </svg>\n",
              "      </button>\n",
              "      \n",
              "  <style>\n",
              "    .colab-df-container {\n",
              "      display:flex;\n",
              "      flex-wrap:wrap;\n",
              "      gap: 12px;\n",
              "    }\n",
              "\n",
              "    .colab-df-convert {\n",
              "      background-color: #E8F0FE;\n",
              "      border: none;\n",
              "      border-radius: 50%;\n",
              "      cursor: pointer;\n",
              "      display: none;\n",
              "      fill: #1967D2;\n",
              "      height: 32px;\n",
              "      padding: 0 0 0 0;\n",
              "      width: 32px;\n",
              "    }\n",
              "\n",
              "    .colab-df-convert:hover {\n",
              "      background-color: #E2EBFA;\n",
              "      box-shadow: 0px 1px 2px rgba(60, 64, 67, 0.3), 0px 1px 3px 1px rgba(60, 64, 67, 0.15);\n",
              "      fill: #174EA6;\n",
              "    }\n",
              "\n",
              "    [theme=dark] .colab-df-convert {\n",
              "      background-color: #3B4455;\n",
              "      fill: #D2E3FC;\n",
              "    }\n",
              "\n",
              "    [theme=dark] .colab-df-convert:hover {\n",
              "      background-color: #434B5C;\n",
              "      box-shadow: 0px 1px 3px 1px rgba(0, 0, 0, 0.15);\n",
              "      filter: drop-shadow(0px 1px 2px rgba(0, 0, 0, 0.3));\n",
              "      fill: #FFFFFF;\n",
              "    }\n",
              "  </style>\n",
              "\n",
              "      <script>\n",
              "        const buttonEl =\n",
              "          document.querySelector('#df-e2ff15d4-b89c-48cd-9956-380527604fe5 button.colab-df-convert');\n",
              "        buttonEl.style.display =\n",
              "          google.colab.kernel.accessAllowed ? 'block' : 'none';\n",
              "\n",
              "        async function convertToInteractive(key) {\n",
              "          const element = document.querySelector('#df-e2ff15d4-b89c-48cd-9956-380527604fe5');\n",
              "          const dataTable =\n",
              "            await google.colab.kernel.invokeFunction('convertToInteractive',\n",
              "                                                     [key], {});\n",
              "          if (!dataTable) return;\n",
              "\n",
              "          const docLinkHtml = 'Like what you see? Visit the ' +\n",
              "            '<a target=\"_blank\" href=https://colab.research.google.com/notebooks/data_table.ipynb>data table notebook</a>'\n",
              "            + ' to learn more about interactive tables.';\n",
              "          element.innerHTML = '';\n",
              "          dataTable['output_type'] = 'display_data';\n",
              "          await google.colab.output.renderOutput(dataTable, element);\n",
              "          const docLink = document.createElement('div');\n",
              "          docLink.innerHTML = docLinkHtml;\n",
              "          element.appendChild(docLink);\n",
              "        }\n",
              "      </script>\n",
              "    </div>\n",
              "  </div>\n",
              "  "
            ]
          },
          "metadata": {},
          "execution_count": 82
        }
      ]
    },
    {
      "cell_type": "code",
      "source": [
        "data.info()"
      ],
      "metadata": {
        "id": "2d7j9sc7JLD_",
        "outputId": "7ea42fb1-2484-4ce6-a7e8-1c4b11364016",
        "colab": {
          "base_uri": "https://localhost:8080/"
        }
      },
      "execution_count": null,
      "outputs": [
        {
          "output_type": "stream",
          "name": "stdout",
          "text": [
            "<class 'pandas.core.frame.DataFrame'>\n",
            "RangeIndex: 60 entries, 0 to 59\n",
            "Data columns (total 3 columns):\n",
            " #   Column  Non-Null Count  Dtype \n",
            "---  ------  --------------  ----- \n",
            " 0   Date    60 non-null     object\n",
            " 1   Title   60 non-null     object\n",
            " 2   URL     60 non-null     object\n",
            "dtypes: object(3)\n",
            "memory usage: 1.5+ KB\n"
          ]
        }
      ]
    }
  ]
}